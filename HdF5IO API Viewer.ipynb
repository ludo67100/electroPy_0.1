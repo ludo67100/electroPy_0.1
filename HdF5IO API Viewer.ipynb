{
 "cells": [
  {
   "cell_type": "code",
   "execution_count": 1,
   "metadata": {},
   "outputs": [],
   "source": [
    "#First import HdF5IO\n",
    "from electroPy.HdF5IO import HdF5IO"
   ]
  },
  {
   "cell_type": "code",
   "execution_count": 2,
   "metadata": {},
   "outputs": [],
   "source": [
    "#Select the .h5 file you want (example below)\n",
    "path = r\"H:\\Federica\\2018-08-10T13-54-41McsRecording.h5\""
   ]
  },
  {
   "cell_type": "code",
   "execution_count": 3,
   "metadata": {},
   "outputs": [],
   "source": [
    "#Open the file (= create instance)\n",
    "the_file = HdF5IO(path)"
   ]
  },
  {
   "cell_type": "code",
   "execution_count": 4,
   "metadata": {},
   "outputs": [],
   "source": [
    "#Call a viewer, i.e for the raw signal, with default values for :\n",
    "#grid_type (array) : by default a 2x8 channel display\n",
    "#downsample : factor for downsampling. A high factor will decrease quality, but increase display speed\n",
    "#Link_Axis : if True, when you zoom/move/resize a channel, all other channels are affected \n",
    "viewer = the_file.raw_view(grid_type='2x8',downsample=50, Link_Axis=True)\n",
    "\n",
    "#Don't forger to maintain the viewer in a window \n",
    "viewer.show()"
   ]
  },
  {
   "cell_type": "code",
   "execution_count": 1,
   "metadata": {},
   "outputs": [],
   "source": [
    "#Works also as HdF5IO.filt_view and HdF5IO.LFP_view for filtered/LFP signals"
   ]
  },
  {
   "cell_type": "code",
   "execution_count": null,
   "metadata": {},
   "outputs": [],
   "source": []
  }
 ],
 "metadata": {
  "kernelspec": {
   "display_name": "Python 2",
   "language": "python",
   "name": "python2"
  },
  "language_info": {
   "codemirror_mode": {
    "name": "ipython",
    "version": 2
   },
   "file_extension": ".py",
   "mimetype": "text/x-python",
   "name": "python",
   "nbconvert_exporter": "python",
   "pygments_lexer": "ipython2",
   "version": "2.7.15"
  }
 },
 "nbformat": 4,
 "nbformat_minor": 2
}
